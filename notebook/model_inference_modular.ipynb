{
 "cells": [
  {
   "cell_type": "code",
   "execution_count": 2,
   "metadata": {},
   "outputs": [
    {
     "data": {
      "application/javascript": "IPython.notebook.set_autosave_interval(300000)"
     },
     "metadata": {},
     "output_type": "display_data"
    },
    {
     "name": "stdout",
     "output_type": "stream",
     "text": [
      "Autosaving every 300 seconds\n"
     ]
    }
   ],
   "source": [
    "%autosave 300\n",
    "%autoreload 2\n",
    "%reload_ext autoreload\n",
    "%config Completer.use_jedi = False"
   ]
  },
  {
   "cell_type": "code",
   "execution_count": 3,
   "metadata": {},
   "outputs": [],
   "source": [
    "import os\n",
    "\n",
    "os.chdir(\n",
    "    r\"/home/azureuser/cloudfiles/code/Users/soutrik.chowdhury/abi_genai_bert_classifier\"\n",
    ")"
   ]
  },
  {
   "cell_type": "markdown",
   "metadata": {},
   "source": [
    "Steps:\n",
    "* donwload the model from azure blob\n",
    "* download the tokenizer from hugging face\n",
    "* pass the incoming data through loader\n",
    "* up the model based on requirements\n",
    "* pass the data through inferencing pipeline"
   ]
  },
  {
   "cell_type": "code",
   "execution_count": 4,
   "metadata": {},
   "outputs": [],
   "source": [
    "# from src.settings import (\n",
    "#     DataSettings,\n",
    "#     env_settings,\n",
    "#     ModelSettings,\n",
    "#     TokenizerSettings,\n",
    "#     AzureblobSettings,\n",
    "#     LoggerSettings,\n",
    "# )\n",
    "# from src.pretrained_model import tokenizer, pretrained_model\n",
    "# from src.dataloader import create_data_loader\n",
    "# from src.model import BertSentimentClassifier, BertSentimentClassifierAdvanced\n",
    "# from src.utils.azure_connector import AzureBlobConnection\n",
    "# from src.utils.logger import setup_logging\n",
    "# from src.utils.model_helpers import get_device\n",
    "# import os, glob\n",
    "# import torch\n",
    "# import numpy as np"
   ]
  },
  {
   "cell_type": "code",
   "execution_count": 5,
   "metadata": {},
   "outputs": [],
   "source": [
    "# az_connection = AzureBlobConnection(\n",
    "#     storage_account=env_settings.STORAGE_ACCOUNT,\n",
    "#     client_id=env_settings.CLIENT_ID,\n",
    "#     tenant_id=env_settings.TENANT_ID,\n",
    "#     client_secret=env_settings.SECRET_ID,\n",
    "# )"
   ]
  },
  {
   "cell_type": "code",
   "execution_count": 6,
   "metadata": {},
   "outputs": [],
   "source": [
    "# az_connection.azblob_download(\n",
    "#     container_name=env_settings.CONTAINER_NAME,\n",
    "#     root_path=os.getcwd(),\n",
    "#     local_output_path=AzureblobSettings().input_path,\n",
    "#     blob_path=AzureblobSettings().blob_path,\n",
    "#     file_names=[]\n",
    "# )"
   ]
  },
  {
   "cell_type": "code",
   "execution_count": 43,
   "metadata": {},
   "outputs": [],
   "source": [
    "from src.inference import ModelInference"
   ]
  },
  {
   "cell_type": "code",
   "execution_count": 44,
   "metadata": {},
   "outputs": [],
   "source": [
    "infer_model = ModelInference()"
   ]
  },
  {
   "cell_type": "code",
   "execution_count": 47,
   "metadata": {},
   "outputs": [],
   "source": [
    "model_op = infer_model.predict(\n",
    "    \"What is the volume trend of budlight in Mexico and rate of change in Q2 as compared to current?\"\n",
    ")"
   ]
  },
  {
   "cell_type": "code",
   "execution_count": 48,
   "metadata": {},
   "outputs": [
    {
     "data": {
      "text/plain": [
       "{'What is the volume trend of budlight in Mexico and rate of change in Q2 as compared to current?': {'label': 0.0,\n",
       "  'prob': 0.007000000216066837}}"
      ]
     },
     "execution_count": 48,
     "metadata": {},
     "output_type": "execute_result"
    }
   ],
   "source": [
    "model_op"
   ]
  },
  {
   "cell_type": "code",
   "execution_count": null,
   "metadata": {},
   "outputs": [],
   "source": []
  }
 ],
 "metadata": {
  "kernelspec": {
   "display_name": "torch_env",
   "language": "python",
   "name": "python3"
  },
  "language_info": {
   "codemirror_mode": {
    "name": "ipython",
    "version": 3
   },
   "file_extension": ".py",
   "mimetype": "text/x-python",
   "name": "python",
   "nbconvert_exporter": "python",
   "pygments_lexer": "ipython3",
   "version": "3.10.12"
  }
 },
 "nbformat": 4,
 "nbformat_minor": 2
}
