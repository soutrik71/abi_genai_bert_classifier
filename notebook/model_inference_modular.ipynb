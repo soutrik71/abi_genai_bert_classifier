{
 "cells": [
  {
   "cell_type": "code",
   "execution_count": 1,
   "metadata": {},
   "outputs": [
    {
     "data": {
      "application/javascript": "IPython.notebook.set_autosave_interval(300000)"
     },
     "metadata": {},
     "output_type": "display_data"
    },
    {
     "name": "stdout",
     "output_type": "stream",
     "text": [
      "Autosaving every 300 seconds\n"
     ]
    }
   ],
   "source": [
    "%autosave 300\n",
    "%reload_ext autoreload\n",
    "%config Completer.use_jedi = False"
   ]
  },
  {
   "cell_type": "code",
   "execution_count": 2,
   "metadata": {},
   "outputs": [],
   "source": [
    "import os\n",
    "\n",
    "os.chdir(\n",
    "    r\"/home/azureuser/cloudfiles/code/Users/soutrik.chowdhury/abi_genai_bert_classifier\"\n",
    ")"
   ]
  },
  {
   "cell_type": "markdown",
   "metadata": {},
   "source": [
    "Steps:\n",
    "* donwload the model from azure blob\n",
    "* download the tokenizer from hugging face\n",
    "* pass the incoming data through loader\n",
    "* up the model based on requirements\n",
    "* pass the data through inferencing pipeline"
   ]
  },
  {
   "cell_type": "code",
   "execution_count": 4,
   "metadata": {},
   "outputs": [],
   "source": [
    "# from src.settings import (\n",
    "#     DataSettings,\n",
    "#     env_settings,\n",
    "#     ModelSettings,\n",
    "#     TokenizerSettings,\n",
    "#     AzureblobSettings,\n",
    "#     LoggerSettings,\n",
    "# )\n",
    "# from src.pretrained_model import tokenizer, pretrained_model\n",
    "# from src.dataloader import create_data_loader\n",
    "# from src.model import BertSentimentClassifier, BertSentimentClassifierAdvanced\n",
    "# from src.utils.azure_connector import AzureBlobConnection\n",
    "# from src.utils.logger import setup_logging\n",
    "# from src.utils.model_helpers import get_device\n",
    "# import os, glob\n",
    "# import torch\n",
    "# import numpy as np\n",
    "# from src.inference import ModelInference"
   ]
  },
  {
   "cell_type": "code",
   "execution_count": 5,
   "metadata": {},
   "outputs": [],
   "source": [
    "# az_connection = AzureBlobConnection(\n",
    "#     storage_account=env_settings.STORAGE_ACCOUNT,\n",
    "#     client_id=env_settings.CLIENT_ID,\n",
    "#     tenant_id=env_settings.TENANT_ID,\n",
    "#     client_secret=env_settings.SECRET_ID,\n",
    "# )"
   ]
  },
  {
   "cell_type": "code",
   "execution_count": 6,
   "metadata": {},
   "outputs": [],
   "source": [
    "# az_connection.azblob_download(\n",
    "#     container_name=env_settings.CONTAINER_NAME,\n",
    "#     root_path=os.getcwd(),\n",
    "#     local_output_path=AzureblobSettings().input_path,\n",
    "#     blob_path=AzureblobSettings().blob_path,\n",
    "#     file_names=[]\n",
    "# )"
   ]
  },
  {
   "cell_type": "code",
   "execution_count": 7,
   "metadata": {},
   "outputs": [],
   "source": [
    "# infer_model = ModelInference()"
   ]
  },
  {
   "cell_type": "code",
   "execution_count": 8,
   "metadata": {},
   "outputs": [],
   "source": [
    "# model_op = infer_model.predict(\n",
    "#     \"What is the volume trend of budlight in Mexico and rate of change in Q2 as compared to current?\"\n",
    "# )"
   ]
  },
  {
   "cell_type": "code",
   "execution_count": 9,
   "metadata": {},
   "outputs": [],
   "source": [
    "# model_op"
   ]
  },
  {
   "cell_type": "code",
   "execution_count": 10,
   "metadata": {},
   "outputs": [],
   "source": [
    "# def model_startup(\n",
    "#     env_settings=env_settings,\n",
    "#     AzureblobSettings=AzureblobSettings,\n",
    "#     ModelInference=ModelInference,\n",
    "# ):\n",
    "\n",
    "#     az_connection = AzureBlobConnection(\n",
    "#         storage_account=env_settings.STORAGE_ACCOUNT,\n",
    "#         client_id=env_settings.CLIENT_ID,\n",
    "#         tenant_id=env_settings.TENANT_ID,\n",
    "#         client_secret=env_settings.SECRET_ID,\n",
    "#     )\n",
    "\n",
    "#     az_connection.azblob_download(\n",
    "#         container_name=env_settings.CONTAINER_NAME,\n",
    "#         root_path=os.getcwd(),\n",
    "#         local_output_path=AzureblobSettings().input_path,\n",
    "#         blob_path=AzureblobSettings().blob_path,\n",
    "#         file_names=[],\n",
    "#     )\n",
    "\n",
    "#     infer_model = ModelInference()\n",
    "\n",
    "#     return infer_model"
   ]
  },
  {
   "cell_type": "code",
   "execution_count": 15,
   "metadata": {},
   "outputs": [],
   "source": [
    "from src.settings import (\n",
    "    LoggerSettings,\n",
    ")\n",
    "from src.utils.logger import setup_logging\n",
    "from src.model_startup import model_startup"
   ]
  },
  {
   "cell_type": "code",
   "execution_count": 12,
   "metadata": {},
   "outputs": [],
   "source": [
    "logger = setup_logging(\n",
    "            logger_name=LoggerSettings().logger_name,\n",
    "            log_file='ModelInference.log',\n",
    "            log_level=LoggerSettings().log_level,\n",
    "        )"
   ]
  },
  {
   "cell_type": "code",
   "execution_count": 16,
   "metadata": {},
   "outputs": [
    {
     "name": "stdout",
     "output_type": "stream",
     "text": [
      "2024-05-13 03:16:18,619 - custom_logger - INFO - Downloading model from Azure Blob Storage\n",
      "2024-05-13 03:16:18,620 - custom_logger - INFO - Establishing Connection  with Azure Blob Storage using credentials\n",
      "2024-05-13 03:16:18,622 - custom_logger - INFO - Mode of Source selected is Azure Blob\n",
      "2024-05-13 03:16:20,964 - custom_logger - INFO - downloading the blob to local file\n",
      "2024-05-13 03:16:20,965 - custom_logger - INFO - Downloaded file at:/mnt/batch/tasks/shared/LS_root/mounts/clusters/insights-model-run/code/Users/soutrik.chowdhury/abi_genai_bert_classifier/models/advanced_bert_model.pt\n",
      "2024-05-13 03:16:34,107 - custom_logger - INFO - downloading the blob to local file\n",
      "2024-05-13 03:16:34,107 - custom_logger - INFO - Downloaded file at:/mnt/batch/tasks/shared/LS_root/mounts/clusters/insights-model-run/code/Users/soutrik.chowdhury/abi_genai_bert_classifier/models/base_bert_model.pt\n",
      "2024-05-13 03:16:46,739 - custom_logger - INFO - All Blobs download process successful, Total count :::2\n",
      "2024-05-13 03:16:46,740 - custom_logger - INFO - Initializing model inference\n",
      "2024-05-13 03:16:46,850 - custom_logger - INFO - Loading advanced model\n"
     ]
    }
   ],
   "source": [
    "model = model_startup()"
   ]
  },
  {
   "cell_type": "code",
   "execution_count": 19,
   "metadata": {},
   "outputs": [
    {
     "name": "stdout",
     "output_type": "stream",
     "text": [
      "2024-05-13 03:17:04,017 - custom_logger - INFO - Predicting labels for query: What is the volume trend of budlight in Mexico and rate of change in Q2 as compared to current?\n"
     ]
    }
   ],
   "source": [
    "model_op = model.predict(\n",
    "    \"What is the volume trend of budlight in Mexico and rate of change in Q2 as compared to current?\"\n",
    ")"
   ]
  },
  {
   "cell_type": "code",
   "execution_count": 20,
   "metadata": {},
   "outputs": [
    {
     "data": {
      "text/plain": [
       "{'user_query': 'What is the volume trend of budlight in Mexico and rate of change in Q2 as compared to current?',\n",
       " 'prediction_class': 0,\n",
       " 'prediction_prob': 0.007000000216066837,\n",
       " 'prediction_label': 'SIMPLE'}"
      ]
     },
     "execution_count": 20,
     "metadata": {},
     "output_type": "execute_result"
    }
   ],
   "source": [
    "model_op"
   ]
  },
  {
   "cell_type": "code",
   "execution_count": 30,
   "metadata": {},
   "outputs": [],
   "source": [
    "# res = {\n",
    "#     \"results\": {\n",
    "#         \"prediction_label\": \"SIMPLE\",\n",
    "#         \"prediction_prob\": 0.5,\n",
    "#         \"user_query\": \"hello\",\n",
    "#         \"prediction_class\": 0,\n",
    "#     },\n",
    "#     \"error\": True,\n",
    "# }"
   ]
  },
  {
   "cell_type": "code",
   "execution_count": 31,
   "metadata": {},
   "outputs": [],
   "source": [
    "# from backend.schema import InferenceResponse"
   ]
  },
  {
   "cell_type": "code",
   "execution_count": 33,
   "metadata": {},
   "outputs": [],
   "source": [
    "# InferenceResponse(**res)"
   ]
  },
  {
   "cell_type": "code",
   "execution_count": null,
   "metadata": {},
   "outputs": [],
   "source": []
  }
 ],
 "metadata": {
  "kernelspec": {
   "display_name": "torch_env",
   "language": "python",
   "name": "python3"
  },
  "language_info": {
   "codemirror_mode": {
    "name": "ipython",
    "version": 3
   },
   "file_extension": ".py",
   "mimetype": "text/x-python",
   "name": "python",
   "nbconvert_exporter": "python",
   "pygments_lexer": "ipython3",
   "version": "3.10.12"
  }
 },
 "nbformat": 4,
 "nbformat_minor": 2
}
