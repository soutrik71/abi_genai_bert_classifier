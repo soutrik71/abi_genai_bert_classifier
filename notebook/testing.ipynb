{
 "cells": [
  {
   "cell_type": "code",
   "execution_count": 1,
   "metadata": {},
   "outputs": [],
   "source": [
    "import requests"
   ]
  },
  {
   "cell_type": "code",
   "execution_count": 2,
   "metadata": {},
   "outputs": [
    {
     "data": {
      "text/plain": [
       "<Response [200]>"
      ]
     },
     "execution_count": 2,
     "metadata": {},
     "output_type": "execute_result"
    }
   ],
   "source": [
    "requests.post(\n",
    "    \"http://localhost:8080/api/predict\",\n",
    "    json={\n",
    "        \"user_query\": \"What is the sales of Corona in Mexico in 2023Q1\",\n",
    "        \"session_id\": \"3fa85f64-5717-4562-b3fc-2c963f66af87\",\n",
    "    },\n",
    ")"
   ]
  },
  {
   "cell_type": "code",
   "execution_count": 5,
   "metadata": {},
   "outputs": [],
   "source": [
    "res_op = requests.post(\n",
    "    \"http://localhost:8080/api/predict\",\n",
    "    json={\n",
    "        \"user_query\": \"What is the sales of Corona in Mexico in 2023Q1\",\n",
    "        \"session_id\": \"3fa85f64-5717-4562-b3fc-2c963f66af63\",\n",
    "    },\n",
    ")"
   ]
  },
  {
   "cell_type": "code",
   "execution_count": 9,
   "metadata": {},
   "outputs": [
    {
     "data": {
      "text/plain": [
       "{'user_query': 'What is the sales of Corona in Mexico in 2023Q1',\n",
       " 'session_id': '3fa85f64-5717-4562-b3fc-2c963f66af63',\n",
       " 'chat_id': 'f697ed13-6b0f-4479-9986-da0466ce3457',\n",
       " 'status': 'completed',\n",
       " 'prediction_label': 'SIMPLE',\n",
       " 'prediction_probability': 0.004999999888241291}"
      ]
     },
     "execution_count": 9,
     "metadata": {},
     "output_type": "execute_result"
    }
   ],
   "source": [
    "res_op.json()"
   ]
  },
  {
   "cell_type": "code",
   "execution_count": 22,
   "metadata": {},
   "outputs": [],
   "source": [
    "res_op = requests.post(\n",
    "    \"http://localhost:8080/api/predict\",\n",
    "    json={\n",
    "        \"user_query\": \"How did the sentiment of Brand XYZ evolved over time in the US\",\n",
    "        \"session_id\": \"3fa85f64-5717-4562-b3fc-2c963f66af55\",\n",
    "    },\n",
    ")"
   ]
  },
  {
   "cell_type": "code",
   "execution_count": 23,
   "metadata": {},
   "outputs": [
    {
     "data": {
      "text/plain": [
       "{'user_query': 'How did the sentiment of Brand XYZ evolved over time in the US',\n",
       " 'session_id': '3fa85f64-5717-4562-b3fc-2c963f66af55',\n",
       " 'chat_id': '9b904840-fc89-4c61-8aba-62b556e1941f',\n",
       " 'status': 'completed',\n",
       " 'prediction_label': 'SIMPLE',\n",
       " 'prediction_probability': 0.00800000037997961}"
      ]
     },
     "execution_count": 23,
     "metadata": {},
     "output_type": "execute_result"
    }
   ],
   "source": [
    "res_op.json()"
   ]
  },
  {
   "cell_type": "code",
   "execution_count": 24,
   "metadata": {},
   "outputs": [],
   "source": [
    "res_op = requests.get(\n",
    "    \"http://localhost:8080/api/chat/9b904840-fc89-4c61-8aba-62b556e1941f\",\n",
    ")"
   ]
  },
  {
   "cell_type": "code",
   "execution_count": null,
   "metadata": {},
   "outputs": [],
   "source": []
  },
  {
   "cell_type": "code",
   "execution_count": 27,
   "metadata": {},
   "outputs": [
    {
     "data": {
      "text/plain": [
       "'{\"detail\":\"Not Found\"}'"
      ]
     },
     "execution_count": 27,
     "metadata": {},
     "output_type": "execute_result"
    }
   ],
   "source": [
    "res_op.text"
   ]
  },
  {
   "cell_type": "code",
   "execution_count": null,
   "metadata": {},
   "outputs": [],
   "source": []
  }
 ],
 "metadata": {
  "kernelspec": {
   "display_name": "torch_env",
   "language": "python",
   "name": "python3"
  },
  "language_info": {
   "codemirror_mode": {
    "name": "ipython",
    "version": 3
   },
   "file_extension": ".py",
   "mimetype": "text/x-python",
   "name": "python",
   "nbconvert_exporter": "python",
   "pygments_lexer": "ipython3",
   "version": "3.10.12"
  }
 },
 "nbformat": 4,
 "nbformat_minor": 2
}
